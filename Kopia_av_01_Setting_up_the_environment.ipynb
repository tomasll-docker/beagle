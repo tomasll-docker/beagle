{
  "nbformat": 4,
  "nbformat_minor": 0,
  "metadata": {
    "colab": {
      "name": "Kopia av 01_Setting_up_the_environment.ipynb",
      "provenance": [],
      "collapsed_sections": [],
      "include_colab_link": true
    },
    "kernelspec": {
      "display_name": "Python 3",
      "name": "python3"
    }
  },
  "cells": [
    {
      "cell_type": "markdown",
      "metadata": {
        "id": "view-in-github",
        "colab_type": "text"
      },
      "source": [
        "<a href=\"https://colab.research.google.com/github/tomasll-docker/beagle/blob/master/Kopia_av_01_Setting_up_the_environment.ipynb\" target=\"_parent\"><img src=\"https://colab.research.google.com/assets/colab-badge.svg\" alt=\"Open In Colab\"/></a>"
      ]
    },
    {
      "cell_type": "markdown",
      "metadata": {
        "id": "cZ7R94San8Fk"
      },
      "source": [
        "# Milestone 1\n",
        "## Setting up the environment\n",
        "\n",
        "### Pythagorean theorem\n",
        "The theorem says: $a^2+b^2=c^2$. We'd like to implement a function which computes the hypotenuse given the adjacent and the opposite. So, the function\n",
        "will compute $c=\\sqrt{a^2 + b^2}$."
      ]
    },
    {
      "cell_type": "code",
      "metadata": {
        "id": "8dgYBtbenuFu"
      },
      "source": [
        "def pythagorean(a,b):\n",
        "  import math\n",
        "  \"\"\"Given the adjacent and the opposite, returns the hypotenuse\n",
        "  Args:\n",
        "    a (int): the adjacent\n",
        "    b (int): the opposite\n",
        "\n",
        "  Returns:\n",
        "    int: the opposite\n",
        "  \"\"\"\n",
        "  return math.sqrt((a**2) + (b**2))"
      ],
      "execution_count": null,
      "outputs": []
    },
    {
      "cell_type": "markdown",
      "metadata": {
        "id": "vQkmMv3fpCqP"
      },
      "source": [
        "And let's try out the function with a few arguments:"
      ]
    },
    {
      "cell_type": "code",
      "metadata": {
        "id": "lrhALD59pI76",
        "outputId": "61c42250-1ce7-4a3e-b87a-75119f2f4b9e",
        "colab": {
          "base_uri": "https://localhost:8080/"
        }
      },
      "source": [
        "print(pythagorean(1,1))\n",
        "print(pythagorean(2,1))\n",
        "print(pythagorean(2,2))\n",
        "print(pythagorean(2,10))"
      ],
      "execution_count": null,
      "outputs": [
        {
          "output_type": "stream",
          "name": "stdout",
          "text": [
            "1.4142135623730951\n",
            "2.23606797749979\n",
            "2.8284271247461903\n",
            "10.198039027185569\n"
          ]
        }
      ]
    },
    {
      "cell_type": "markdown",
      "metadata": {
        "id": "AtsMAXZKx6-h"
      },
      "source": [
        "# Naive Bayes\n",
        "We will train a [Multinomial Naive Bayes](http://www.dt.fee.unicamp.br/~tiago/smsspamcollection/) classifier on the SMS Spam Collection using scikit learn.\n",
        "## Mount Google Drive"
      ]
    },
    {
      "cell_type": "code",
      "metadata": {
        "id": "wfCvf9NfzfCu",
        "outputId": "dfa29c34-cddc-4e4a-ea92-75121b66c96e",
        "colab": {
          "base_uri": "https://localhost:8080/",
          "height": 329
        }
      },
      "source": [
        "from google.colab import drive\n",
        "drive.mount('/content/drive', force_remount=True)"
      ],
      "execution_count": null,
      "outputs": [
        {
          "output_type": "error",
          "ename": "MessageError",
          "evalue": "ignored",
          "traceback": [
            "\u001b[0;31m---------------------------------------------------------------------------\u001b[0m",
            "\u001b[0;31mMessageError\u001b[0m                              Traceback (most recent call last)",
            "\u001b[0;32m<ipython-input-6-a145c0899d7d>\u001b[0m in \u001b[0;36m<module>\u001b[0;34m()\u001b[0m\n\u001b[1;32m      1\u001b[0m \u001b[0;32mfrom\u001b[0m \u001b[0mgoogle\u001b[0m\u001b[0;34m.\u001b[0m\u001b[0mcolab\u001b[0m \u001b[0;32mimport\u001b[0m \u001b[0mdrive\u001b[0m\u001b[0;34m\u001b[0m\u001b[0;34m\u001b[0m\u001b[0m\n\u001b[0;32m----> 2\u001b[0;31m \u001b[0mdrive\u001b[0m\u001b[0;34m.\u001b[0m\u001b[0mmount\u001b[0m\u001b[0;34m(\u001b[0m\u001b[0;34m'/content/drive'\u001b[0m\u001b[0;34m,\u001b[0m \u001b[0mforce_remount\u001b[0m\u001b[0;34m=\u001b[0m\u001b[0;32mTrue\u001b[0m\u001b[0;34m)\u001b[0m\u001b[0;34m\u001b[0m\u001b[0;34m\u001b[0m\u001b[0m\n\u001b[0m",
            "\u001b[0;32m/usr/local/lib/python3.7/dist-packages/google/colab/drive.py\u001b[0m in \u001b[0;36mmount\u001b[0;34m(mountpoint, force_remount, timeout_ms, use_metadata_server)\u001b[0m\n\u001b[1;32m    111\u001b[0m       \u001b[0mtimeout_ms\u001b[0m\u001b[0;34m=\u001b[0m\u001b[0mtimeout_ms\u001b[0m\u001b[0;34m,\u001b[0m\u001b[0;34m\u001b[0m\u001b[0;34m\u001b[0m\u001b[0m\n\u001b[1;32m    112\u001b[0m       \u001b[0muse_metadata_server\u001b[0m\u001b[0;34m=\u001b[0m\u001b[0muse_metadata_server\u001b[0m\u001b[0;34m,\u001b[0m\u001b[0;34m\u001b[0m\u001b[0;34m\u001b[0m\u001b[0m\n\u001b[0;32m--> 113\u001b[0;31m       ephemeral=ephemeral)\n\u001b[0m\u001b[1;32m    114\u001b[0m \u001b[0;34m\u001b[0m\u001b[0m\n\u001b[1;32m    115\u001b[0m \u001b[0;34m\u001b[0m\u001b[0m\n",
            "\u001b[0;32m/usr/local/lib/python3.7/dist-packages/google/colab/drive.py\u001b[0m in \u001b[0;36m_mount\u001b[0;34m(mountpoint, force_remount, timeout_ms, use_metadata_server, ephemeral)\u001b[0m\n\u001b[1;32m    134\u001b[0m   \u001b[0;32mif\u001b[0m \u001b[0mephemeral\u001b[0m\u001b[0;34m:\u001b[0m\u001b[0;34m\u001b[0m\u001b[0;34m\u001b[0m\u001b[0m\n\u001b[1;32m    135\u001b[0m     _message.blocking_request(\n\u001b[0;32m--> 136\u001b[0;31m         'request_auth', request={'authType': 'dfs_ephemeral'}, timeout_sec=None)\n\u001b[0m\u001b[1;32m    137\u001b[0m \u001b[0;34m\u001b[0m\u001b[0m\n\u001b[1;32m    138\u001b[0m   \u001b[0mmountpoint\u001b[0m \u001b[0;34m=\u001b[0m \u001b[0m_os\u001b[0m\u001b[0;34m.\u001b[0m\u001b[0mpath\u001b[0m\u001b[0;34m.\u001b[0m\u001b[0mexpanduser\u001b[0m\u001b[0;34m(\u001b[0m\u001b[0mmountpoint\u001b[0m\u001b[0;34m)\u001b[0m\u001b[0;34m\u001b[0m\u001b[0;34m\u001b[0m\u001b[0m\n",
            "\u001b[0;32m/usr/local/lib/python3.7/dist-packages/google/colab/_message.py\u001b[0m in \u001b[0;36mblocking_request\u001b[0;34m(request_type, request, timeout_sec, parent)\u001b[0m\n\u001b[1;32m    173\u001b[0m   request_id = send_request(\n\u001b[1;32m    174\u001b[0m       request_type, request, parent=parent, expect_reply=True)\n\u001b[0;32m--> 175\u001b[0;31m   \u001b[0;32mreturn\u001b[0m \u001b[0mread_reply_from_input\u001b[0m\u001b[0;34m(\u001b[0m\u001b[0mrequest_id\u001b[0m\u001b[0;34m,\u001b[0m \u001b[0mtimeout_sec\u001b[0m\u001b[0;34m)\u001b[0m\u001b[0;34m\u001b[0m\u001b[0;34m\u001b[0m\u001b[0m\n\u001b[0m",
            "\u001b[0;32m/usr/local/lib/python3.7/dist-packages/google/colab/_message.py\u001b[0m in \u001b[0;36mread_reply_from_input\u001b[0;34m(message_id, timeout_sec)\u001b[0m\n\u001b[1;32m    104\u001b[0m         reply.get('colab_msg_id') == message_id):\n\u001b[1;32m    105\u001b[0m       \u001b[0;32mif\u001b[0m \u001b[0;34m'error'\u001b[0m \u001b[0;32min\u001b[0m \u001b[0mreply\u001b[0m\u001b[0;34m:\u001b[0m\u001b[0;34m\u001b[0m\u001b[0;34m\u001b[0m\u001b[0m\n\u001b[0;32m--> 106\u001b[0;31m         \u001b[0;32mraise\u001b[0m \u001b[0mMessageError\u001b[0m\u001b[0;34m(\u001b[0m\u001b[0mreply\u001b[0m\u001b[0;34m[\u001b[0m\u001b[0;34m'error'\u001b[0m\u001b[0;34m]\u001b[0m\u001b[0;34m)\u001b[0m\u001b[0;34m\u001b[0m\u001b[0;34m\u001b[0m\u001b[0m\n\u001b[0m\u001b[1;32m    107\u001b[0m       \u001b[0;32mreturn\u001b[0m \u001b[0mreply\u001b[0m\u001b[0;34m.\u001b[0m\u001b[0mget\u001b[0m\u001b[0;34m(\u001b[0m\u001b[0;34m'data'\u001b[0m\u001b[0;34m,\u001b[0m \u001b[0;32mNone\u001b[0m\u001b[0;34m)\u001b[0m\u001b[0;34m\u001b[0m\u001b[0;34m\u001b[0m\u001b[0m\n\u001b[1;32m    108\u001b[0m \u001b[0;34m\u001b[0m\u001b[0m\n",
            "\u001b[0;31mMessageError\u001b[0m: Error: credential propagation was unsuccessful"
          ]
        }
      ]
    },
    {
      "cell_type": "markdown",
      "metadata": {
        "id": "S_arNPcDzpxj"
      },
      "source": [
        "You can access your folder with the prefix \"/content/drive/My Drive/\".\n",
        "## Scikit-learn GaussianNB"
      ]
    },
    {
      "cell_type": "code",
      "metadata": {
        "id": "nV2YBQ0Vx9kT"
      },
      "source": [
        "import pickle\n",
        "import string\n",
        "\n",
        "from joblib import dump, load\n",
        "from sklearn.feature_extraction.text import CountVectorizer\n",
        "from sklearn.model_selection import train_test_split\n",
        "from sklearn.naive_bayes import MultinomialNB\n",
        "\n",
        "# Load raw data\n",
        "texts = []\n",
        "labels = []\n",
        "with open(\"/content/drive/My Drive/Colab Notebooks/01_data/SMSSpamCollection.txt\", \"r\") as infile:\n",
        "  for l in infile:\n",
        "    label, text = l.strip().split(\"\\t\")\n",
        "    labels.append(label)\n",
        "    text = \"\".join([ch.lower() for ch in text if ch not in string.punctuation])\n",
        "    texts.append(text)\n",
        "\n",
        "# train-test split\n",
        "X_train_raw, X_test_raw, y_train, y_test = train_test_split(texts, labels, random_state=42)\n",
        "\n",
        "# vectorize training and test\n",
        "vectorizer = CountVectorizer() # only training vocab counts!\n",
        "X_train = vectorizer.fit_transform(X_train_raw)\n",
        "vctrzr = CountVectorizer(vocabulary=vectorizer.vocabulary_)\n",
        "X_test = vctrzr.fit_transform(X_test_raw)\n",
        "\n",
        "to_be_saved = [X_train, X_test, y_train, y_test]\n",
        "with open(\"/content/drive/My Drive/Colab Notebooks/01_data/vectorized_data.p\", \"wb\") as outfile:\n",
        "  pickle.dump(to_be_saved, outfile)\n",
        "\n",
        "# train MultinomialNB\n",
        "clf = MultinomialNB()\n",
        "clf.fit(X_train, y_train)\n",
        "\n",
        "dump(clf, \"/content/drive/My Drive/Colab Notebooks/01_models/NB.joblib\")\n"
      ],
      "execution_count": null,
      "outputs": []
    },
    {
      "cell_type": "code",
      "metadata": {
        "id": "oy7hZG0RazI8"
      },
      "source": [
        "print(len(X_train.toarray()[0]))"
      ],
      "execution_count": null,
      "outputs": []
    },
    {
      "cell_type": "code",
      "metadata": {
        "id": "6wNfZfZrazH0"
      },
      "source": [
        ""
      ],
      "execution_count": null,
      "outputs": []
    },
    {
      "cell_type": "markdown",
      "metadata": {
        "id": "ysk5pVVV0O52"
      },
      "source": [
        "## Load & evaluate"
      ]
    },
    {
      "cell_type": "code",
      "metadata": {
        "id": "fDTAalV40Scr"
      },
      "source": [
        "from sklearn.metrics import classification_report\n",
        "\n",
        "clf = load(\"/content/drive/My Drive/Colab Notebooks/01_models/NB.joblib\")\n",
        "y_pred = clf.predict(X_test)\n",
        "\n",
        "print(classification_report(y_test, y_pred))"
      ],
      "execution_count": null,
      "outputs": []
    },
    {
      "cell_type": "markdown",
      "metadata": {
        "id": "aDhtMDEILGCC"
      },
      "source": [
        "Now, we are ready to move on to Milestone 2."
      ]
    }
  ]
}